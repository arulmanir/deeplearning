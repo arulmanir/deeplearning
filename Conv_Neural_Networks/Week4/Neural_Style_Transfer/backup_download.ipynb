{
 "cells": [
  {
   "cell_type": "code",
   "execution_count": 4,
   "metadata": {},
   "outputs": [
    {
     "name": "stdout",
     "output_type": "stream",
     "text": [
      "Art Generation with Neural Style Transfer - v1.ipynb\n",
      "Art Generation with Neural Style Transfer - v2.ipynb\n",
      "Art Generation with Neural Style Transfer - v3.ipynb\n",
      "Art_Generation_with_Neural_Style_Transfer_v3a.ipynb\n",
      "Pretrained_Model_LICENSE.txt\n",
      "__pycache__/\n",
      "__pycache__/nst_utils.cpython-36.pyc\n",
      "backup_download.ipynb\n",
      "images/\n",
      "nst_utils.py\n",
      "output/\n",
      "output/generated_image.jpg\n",
      "output/140.png\n",
      "output/100.png\n",
      "output/180.png\n",
      "output/160.png\n",
      "output/120.png\n",
      "output/60.png\n",
      "output/20.png\n",
      "output/0.png\n",
      "output/80.png\n",
      "output/40.png\n",
      "pretrained-model/\n",
      "pretrained-model/imagenet-vgg-verydeep-19.mat\n"
     ]
    }
   ],
   "source": [
    "!tar chvzf notebook_nt.tar.gz --exclude='notebook.tar.gz' --exclude='pretrained-model/*' *"
   ]
  },
  {
   "cell_type": "code",
   "execution_count": null,
   "metadata": {
    "collapsed": true
   },
   "outputs": [],
   "source": []
  }
 ],
 "metadata": {
  "kernelspec": {
   "display_name": "Python 3",
   "language": "python",
   "name": "python3"
  },
  "language_info": {
   "codemirror_mode": {
    "name": "ipython",
    "version": 3
   },
   "file_extension": ".py",
   "mimetype": "text/x-python",
   "name": "python",
   "nbconvert_exporter": "python",
   "pygments_lexer": "ipython3",
   "version": "3.6.0"
  }
 },
 "nbformat": 4,
 "nbformat_minor": 2
}
